{
 "cells": [
  {
   "cell_type": "code",
   "execution_count": null,
   "id": "9e668f4d-9e77-4266-88b4-48c0c8f0b6a7",
   "metadata": {},
   "outputs": [],
   "source": [
    "# Importo las librerias que voy a necesitar durante el análisis\n",
    "\n",
    "import pandas as pd\n",
    "import numpy as np\n",
    "\n",
    "import xlrd\n",
    "from datetime import datetime, date, timedelta\n",
    "\n",
    "%matplotlib inline\n",
    "import matplotlib.pyplot as plt\n",
    "import matplotlib as mpl\n",
    "import seaborn as sb\n",
    "import squarify\n"
   ]
  },
  {
   "cell_type": "code",
   "execution_count": null,
   "id": "57bf542f-6c33-43f3-88b2-b6e35fa00ede",
   "metadata": {},
   "outputs": [],
   "source": [
    "# A partir de los 3 datasets que voy a usar para el análisis, genero por cada uno un data frame\n",
    "\n",
    "df_1 = pd.read_csv('datasets/precert_ene_feb_2020.csv', encoding='latin-1')\n",
    "\n",
    "df_2 = pd.read_csv('datasets/precert_mar_abr_2020.csv', encoding='latin-1', \n",
    "                   low_memory=False)\n",
    "\n",
    "df_3 = pd.read_csv('datasets/precert_may_jun_2020.csv', encoding='latin-1')\n"
   ]
  },
  {
   "cell_type": "code",
   "execution_count": null,
   "id": "ce240770-b0b5-46ec-92ef-844213eb1886",
   "metadata": {},
   "outputs": [],
   "source": [
    "# Genero un data frame auxiliar para que no me duplique los indices\n",
    "\n",
    "df = pd.DataFrame()"
   ]
  },
  {
   "cell_type": "code",
   "execution_count": null,
   "id": "00415003-19dc-4ff3-96f1-c56e29ae720e",
   "metadata": {},
   "outputs": [],
   "source": [
    "# Concateno los 3 data frames en uno\n",
    "\n",
    "df_cert_total = pd.concat([df, df_1, df_2, df_3])"
   ]
  },
  {
   "cell_type": "code",
   "execution_count": null,
   "id": "2823948b-1386-42cb-ac3f-fd31bcd73592",
   "metadata": {},
   "outputs": [],
   "source": [
    "# Realizo una primer exploración de datos con el método head\n",
    "\n",
    "df_cert_total.head()"
   ]
  },
  {
   "cell_type": "code",
   "execution_count": null,
   "id": "f5df70bc-04d8-472b-8d5d-728c0464b208",
   "metadata": {},
   "outputs": [],
   "source": [
    "# Aplico el atributo columns para conocere los nombres de las columnas de mi df\n",
    "\n",
    "df_cert_total.columns"
   ]
  },
  {
   "cell_type": "code",
   "execution_count": null,
   "id": "fb21f52a-884e-4c65-8e30-e1a5828f0010",
   "metadata": {},
   "outputs": [],
   "source": [
    "# Con el método drop elimino las columnas de datos que no aportan valor a este análsis\n",
    "\n",
    "df_cert_total= df_cert_total.drop(['Tipo Doc.', 'País Doc.','Mutualista', \n",
    "                                   'Origen Certificación', 'Tipo Certificación', \n",
    "                                   'Tipo Control', 'Fecha Acto Médico', \n",
    "                                   'Fecha Desde Precertificación', \n",
    "                                   'Fecha Hasta Precertificación', 'Vig. Desde', \n",
    "                                   'Vig. Hasta','Demora Ingreso', 'Internación', \n",
    "                                   'Cód. Mutualista Internación',\n",
    "                                   'Mutualista Internación',\n",
    "                                   'Oficina Ingreso Precertificación','Localidad', \n",
    "                                   'Mutualista FONASA'], axis=1)"
   ]
  },
  {
   "cell_type": "code",
   "execution_count": null,
   "id": "e70a52a4-493c-486c-960c-84a0cfd8a9e0",
   "metadata": {},
   "outputs": [],
   "source": [
    "# Renombro las columnas utilizando Sanke_case con el método rename\n",
    "\n",
    "df_cert_total = df_cert_total.rename(columns={'N° Doc. ': 'documento', \n",
    "                                              'Sexo': 'sexo', \n",
    "                                              'Fecha Nac.': 'fecha_nacimiento', \n",
    "                                              'Fecha Ingreso Sistema': 'fecha_ingreso', \n",
    "                                              'Cantidad de días Precertif.': 'cantidad_días', \n",
    "                                              'Cód. Patología': 'código_pat', \n",
    "                                              'Patología': 'patología', \n",
    "                                              'Departamento': 'departamento'})"
   ]
  },
  {
   "cell_type": "code",
   "execution_count": null,
   "id": "37aec20e-5418-4da7-9a63-f88e4f50c570",
   "metadata": {},
   "outputs": [],
   "source": [
    "# Verifico que el df tiene las columnas y nombres que necesito\n",
    "\n",
    "df_cert_total.head()"
   ]
  },
  {
   "cell_type": "code",
   "execution_count": null,
   "id": "c2a2fa85-af27-43d5-a0c8-ec80c4471514",
   "metadata": {},
   "outputs": [],
   "source": [
    "# Con el método info analizo los datos y tipo de datos que contiene el df\n",
    "\n",
    "df_cert_total.info()"
   ]
  },
  {
   "cell_type": "code",
   "execution_count": null,
   "id": "b55be444-7169-4d9d-9b96-6fe9eaf90acf",
   "metadata": {},
   "outputs": [],
   "source": [
    "# Aplicando el método drop_duplicates elimino los registros de certificación duplicados con los criterios indicados\n",
    "\n",
    "df_cert_total = df_cert_total.drop_duplicates(subset=['documento', 'fecha_ingreso', \n",
    "                                                      'código_pat', 'cantidad_días'], \n",
    "                                              keep='last')"
   ]
  },
  {
   "cell_type": "code",
   "execution_count": null,
   "id": "d67ced9e-535e-49d0-a519-d92b7aee6aa1",
   "metadata": {},
   "outputs": [],
   "source": [
    "# Con el atributo shape verifico si el tamaño del df se modifico luego del dropeo\n",
    "\n",
    "df_cert_total.shape"
   ]
  },
  {
   "cell_type": "code",
   "execution_count": null,
   "id": "b8b4d791-34aa-48d5-9759-504ccb05e853",
   "metadata": {},
   "outputs": [],
   "source": [
    "# Defino la función para normalizar las fechas\n",
    "\n",
    "def norm_fecha(xl_date):\n",
    "    return xlrd.xldate_as_datetime(xl_date, 0).date()\n"
   ]
  },
  {
   "cell_type": "code",
   "execution_count": null,
   "id": "a04c9cd2-4ac3-4ee9-a5bb-65d89a6eb97f",
   "metadata": {},
   "outputs": [],
   "source": [
    "# Aplico la función a Fecha Nacimiento y a Fecha Ingreso\n",
    "\n",
    "df_cert_total.fecha_nacimiento = df_cert_total.fecha_nacimiento.apply(norm_fecha)\n",
    "\n",
    "df_cert_total.fecha_ingreso = df_cert_total.fecha_ingreso.apply(norm_fecha)\n",
    "\n",
    "print(df_cert_total)"
   ]
  },
  {
   "cell_type": "code",
   "execution_count": null,
   "id": "8ff71be7-0056-4d99-aa03-397f525bf10a",
   "metadata": {},
   "outputs": [],
   "source": [
    "# Defino la funcion para obtener el dato mes a partir de la fecha\n",
    "\n",
    "def fecha_mes(date_norm):\n",
    "    return date_norm.month"
   ]
  },
  {
   "cell_type": "code",
   "execution_count": null,
   "id": "f89e9c24-023b-4e8c-9cc7-a962aacf6e5f",
   "metadata": {},
   "outputs": [],
   "source": [
    "# Aplico la función para quedarme con el dato mes de Fecha Ingreso y lo agrego como columna al df\n",
    "\n",
    "df_cert_total.mes_ingreso = df_cert_total.fecha_ingreso.apply(fecha_mes)\n",
    "\n",
    "df_cert_total = df_cert_total.assign(mes_ingreso = df_cert_total.mes_ingreso)\n",
    "\n",
    "print(df_cert_total)\n",
    "\n"
   ]
  },
  {
   "cell_type": "code",
   "execution_count": null,
   "id": "ff8fb78e-0399-4d3a-a75d-e2c4b4edab88",
   "metadata": {},
   "outputs": [],
   "source": [
    "# Con el método value_counts cuento la cantidad de registros de certificación por mes y guardo la data en un diccionario\n",
    "\n",
    "df_cantidad_cert_mes = (df_cert_total.mes_ingreso.value_counts())\n",
    "\n",
    "#print(cantidad_cert_mes)\n",
    "\n",
    "dict_cert_total = df_cantidad_cert_mes.to_dict()\n",
    "\n",
    "print(dict_cert_total)"
   ]
  },
  {
   "cell_type": "code",
   "execution_count": null,
   "id": "d2120d45-b7fa-4671-b416-40dfa92df3c8",
   "metadata": {},
   "outputs": [],
   "source": [
    "# Genero un nuevo data frame con los registros de certificación con patologías que requiero para el análisis utilizando el método isin\n",
    "\n",
    "df_cert_analisis = df_cert_total[df_cert_total.código_pat.isin(['J111', 'J22', 'J069', 'J989', 'J00', 'J209'])] \n",
    "\n",
    "print(df_cert_analisis)"
   ]
  },
  {
   "cell_type": "code",
   "execution_count": null,
   "id": "668793ee-6ec2-41d5-b573-5c9ef997c99d",
   "metadata": {},
   "outputs": [],
   "source": [
    "# Defino una función para calcular la edad de la persona a partir de la Fecha Nacimiento\n",
    "\n",
    "def calculo_edad(fecha_nac):\n",
    "    today = datetime.today()\n",
    "    years = today.year-fecha_nac.year\n",
    "    \n",
    "    if today.month < fecha_nac.month or (today.month == fecha_nac.month and today.day < fecha_nac.day):\n",
    "        years-=1\n",
    "    \n",
    "    return (years)\n"
   ]
  },
  {
   "cell_type": "code",
   "execution_count": null,
   "id": "268fb352-696f-46a5-bf06-7a5583925060",
   "metadata": {},
   "outputs": [],
   "source": [
    "# Aplico la función para obtener la edad y agrego el dato como nueva columna del df\n",
    "\n",
    "df_cert_analisis.edad = df_cert_analisis.fecha_nacimiento.apply(calculo_edad)\n",
    "\n",
    "#print(df_cert_analisis.edad)\n",
    "\n",
    "df_cert_analisis = df_cert_analisis.assign(edad = df_cert_analisis.edad)\n",
    "\n",
    "print(df_cert_analisis)\n",
    "\n"
   ]
  },
  {
   "cell_type": "code",
   "execution_count": null,
   "id": "3fc4d7ba-8b69-4cdd-b183-699919364a7e",
   "metadata": {},
   "outputs": [],
   "source": [
    "# Con el método value_counts cuento la cantidad de registros de certificación por mes y guardo la data en un diccionario\n",
    "\n",
    "df_cantidad_cert_J_mes = (df_cert_analisis.mes_ingreso.value_counts())\n",
    "\n",
    "\n",
    "dict_cert_J = df_cantidad_cert_J_mes.to_dict()\n",
    "print(dict_cert_J)"
   ]
  },
  {
   "cell_type": "code",
   "execution_count": null,
   "id": "430379fa-a6ef-40d9-bc00-35cc60ee98b3",
   "metadata": {},
   "outputs": [],
   "source": [
    "# A partir de los diccionarios con los totales por mes, genero un data frame auxiliar\n",
    "\n",
    "df_cert_aux = pd.DataFrame()\n",
    "df_cert_aux = df_cert_aux.append(dict_cert_total, ignore_index = True)\n",
    "df_cert_aux = df_cert_aux.append(dict_cert_J, ignore_index = True)\n",
    "df_cert_aux"
   ]
  },
  {
   "cell_type": "code",
   "execution_count": null,
   "id": "7b8c6554-0894-428b-9dcb-d5b19f1ff5f3",
   "metadata": {},
   "outputs": [],
   "source": [
    "# Cambio el nombre de los índices, traspongo los datos (columnas e índices) y órdeno los índices\n",
    "\n",
    "df_cert_aux.index = ['Total', 'Cert_J']\n",
    "\n",
    "df_cert_aux = df_cert_aux.transpose()\n",
    "\n",
    "df_cert_aux = df_cert_aux.sort_index()\n",
    "\n",
    "df_cert_aux"
   ]
  },
  {
   "cell_type": "code",
   "execution_count": null,
   "id": "e50e7fd4-7f35-431f-8a10-18c4685ec604",
   "metadata": {},
   "outputs": [],
   "source": [
    "\n",
    "def calculo_porcentual(total, J):\n",
    "    return (J*100)/total\n",
    "\n",
    "\n",
    "df_cert_aux.porcentaje = calculo_porcentual(df_cert_aux.Total, df_cert_aux.Cert_J)\n",
    "df_cert_aux = df_cert_aux.assign(porcentaje = df_cert_aux.porcentaje)\n",
    "\n",
    "df_cert_aux"
   ]
  },
  {
   "cell_type": "code",
   "execution_count": null,
   "id": "673979ad-f9f3-4bef-aa79-bfd79c1b1de6",
   "metadata": {},
   "outputs": [],
   "source": [
    "df_cert_total"
   ]
  },
  {
   "cell_type": "code",
   "execution_count": null,
   "id": "fbfb205e-acbe-4744-830d-af7a39b59365",
   "metadata": {},
   "outputs": [],
   "source": [
    "# A partir del data frame auxiliar se plantea la primer gráfica\n",
    "\n",
    "n = len(df_cert_aux.index)\n",
    "x = np.arange(n)\n",
    "width = 0.35\n",
    "\n",
    "plt.bar(x - width, df_cert_aux.Total, width=width, label='Certificaciones Totales', color=['cornflowerblue'])\n",
    "plt.bar(x , df_cert_aux.Cert_J, width=width, label='Certificaciones pat_J', color=['midnightblue'])\n",
    "plt.xticks(x, df_cert_aux.index)\n",
    "plt.legend(loc='best')\n",
    "plt.show\n"
   ]
  },
  {
   "cell_type": "code",
   "execution_count": null,
   "id": "bcbce0f8-48fb-4e49-9c23-38a204d1968e",
   "metadata": {},
   "outputs": [],
   "source": [
    "# Defino un nuevo data frame a partir de agrupar y contar totales de Mes Ingreso del data frame del análisis\n",
    "\n",
    "df_totales_J_mes = df_cert_analisis.groupby(['mes_ingreso']).size().reset_index(name='Count')\n",
    "\n",
    "print(df_totales_J_mes)"
   ]
  },
  {
   "cell_type": "code",
   "execution_count": null,
   "id": "03d8cbb3-60ac-4657-8ff3-2c7c41451f3b",
   "metadata": {},
   "outputs": [],
   "source": [
    "# A partir del data frame anterior se presenta la siguiente gráfica de tendencia\n",
    "\n",
    "df_totales_J_mes.plot(x=\"mes_ingreso\", y=\"Count\", kind=\"line\")\n",
    "plt.show()"
   ]
  },
  {
   "cell_type": "code",
   "execution_count": null,
   "id": "efddb495-a1b6-462f-b3d1-67c6e65690b0",
   "metadata": {},
   "outputs": [],
   "source": [
    "# Defino un nuevo data frame a partir de agrupar y contar totales de Mes Ingreso y sexo del data frame del análisis\n",
    "\n",
    "df_sexo = df_cert_analisis.groupby(['mes_ingreso', 'sexo']).size().reset_index(name='Count')\n",
    "\n",
    "print(df_sexo)"
   ]
  },
  {
   "cell_type": "code",
   "execution_count": null,
   "id": "275e979d-9e07-410d-bb84-2bcf9c69e1f8",
   "metadata": {},
   "outputs": [],
   "source": [
    "df_cuenta_sexo = (df_cert_analisis.sexo.value_counts())\n",
    "df_cuenta_sexo"
   ]
  },
  {
   "cell_type": "code",
   "execution_count": null,
   "id": "647dd31b-1d98-4ad7-a3e1-98009223beba",
   "metadata": {},
   "outputs": [],
   "source": [
    "# A partir del data frame anterior se grafica comparando cantidad de certificaciones por mes con distinción del genero\n",
    "\n",
    "plt.figure(figsize=(8, 6))\n",
    "sb.pointplot(x='mes_ingreso', \n",
    "              y='Count',\n",
    "              hue='sexo', \n",
    "              palette='Blues',  \n",
    "              data=df_sexo)\n",
    "plt.xlabel(\"Mes ingreso\")\n",
    "plt.ylabel(\"Cantidad de certificaciones\")\n",
    "plt.title(\"Total por mes por genero\")\n",
    "plt.show()"
   ]
  },
  {
   "cell_type": "code",
   "execution_count": null,
   "id": "e879eb02-9a38-473a-8637-ae5aad5264cb",
   "metadata": {},
   "outputs": [],
   "source": [
    "# Defino un nuevo data frame a partir de agrupar y contar totales de Mes Ingreso y edad del data frame del análisis\n",
    "\n",
    "df_edad= df_cert_analisis.groupby(['mes_ingreso', 'edad']).size().reset_index(name='Count')\n",
    "\n",
    "print(df_edad)"
   ]
  },
  {
   "cell_type": "code",
   "execution_count": null,
   "id": "715c9a5a-ef47-4752-bd91-d7afbeab380c",
   "metadata": {},
   "outputs": [],
   "source": [
    "#df_edad.min()\n",
    "#df_edad.max()\n",
    "df_edad.mean()"
   ]
  },
  {
   "cell_type": "code",
   "execution_count": null,
   "id": "2fe30e1d-7bfc-4974-b03b-7564b5e7d2d0",
   "metadata": {},
   "outputs": [],
   "source": [
    "# A partir del data frame de edad realizo un gráfico de dispersión\n",
    "\n",
    "y = df_cert_analisis.mes_ingreso\n",
    "x = df_cert_analisis.edad\n",
    "\n",
    "data = df_cert_analisis\n",
    "\n",
    "sb.scatterplot(data=data, x=\"mes_ingreso\", y=\"edad\")\n",
    "\n",
    "\n",
    "plt.show()"
   ]
  },
  {
   "cell_type": "code",
   "execution_count": null,
   "id": "c5b5d767-f065-4aa9-a8c7-aa5559309844",
   "metadata": {},
   "outputs": [],
   "source": [
    "# Genero un nuevo data frame a partir de agrupar y contar totales por departamento del data frame del análisis, quito los valores 'sin departamento' con el método not isin\n",
    "\n",
    "df_dpto= df_cert_analisis.groupby(['departamento']).size().reset_index(name='Count')\n",
    "\n",
    "\n",
    "df_dpto = df_dpto[~df_dpto.departamento.isin(['Sin departamento'])] \n",
    "\n",
    "print(df_dpto)\n"
   ]
  },
  {
   "cell_type": "code",
   "execution_count": null,
   "id": "b276a2dc-f605-4c80-bc1d-90c323b29e9a",
   "metadata": {},
   "outputs": [],
   "source": [
    "# Con la información del data frame de departamentos realizo gráfico del tipo treemap\n",
    "\n",
    "fig, ax = plt.subplots(1, figsize = (15,15))\n",
    "ax = squarify.plot(sizes=df_dpto.Count, label=df_dpto.departamento, \n",
    "                   alpha=0.5,color=sb.color_palette(\"Paired\", len(df_dpto.departamento)))\n",
    "plt.axis('off')\n",
    "plt.show()"
   ]
  }
 ],
 "metadata": {
  "kernelspec": {
   "display_name": "Python 3 (ipykernel)",
   "language": "python",
   "name": "python3"
  },
  "language_info": {
   "codemirror_mode": {
    "name": "ipython",
    "version": 3
   },
   "file_extension": ".py",
   "mimetype": "text/x-python",
   "name": "python",
   "nbconvert_exporter": "python",
   "pygments_lexer": "ipython3",
   "version": "3.10.2"
  }
 },
 "nbformat": 4,
 "nbformat_minor": 5
}
